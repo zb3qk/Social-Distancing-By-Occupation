{
 "cells": [
  {
   "cell_type": "markdown",
   "metadata": {},
   "source": [
    "# Estimating Income Effects on Social Distancing Using Linear Regression"
   ]
  },
  {
   "cell_type": "code",
   "execution_count": 366,
   "metadata": {},
   "outputs": [],
   "source": [
    "import pandas as pd\n",
    "import numpy as np\n",
    "import matplotlib.pyplot as plt\n",
    "from sklearn import linear_model as lm\n",
    "import pickle"
   ]
  },
  {
   "cell_type": "markdown",
   "metadata": {},
   "source": [
    "We can open the pickle file to get pandas dataframes that contain the data we need for the states we have chosen to examine."
   ]
  },
  {
   "cell_type": "code",
   "execution_count": 367,
   "metadata": {},
   "outputs": [],
   "source": [
    "state_list = ['Washington', 'Georgia', 'New Jersey', 'Utah']\n",
    "with open('combined_data_dfs.pickle', 'rb') as file:\n",
    "    combined_data_dfs = pickle.load(file)"
   ]
  },
  {
   "cell_type": "markdown",
   "metadata": {},
   "source": [
    "Name each pandas dataframe for its state"
   ]
  },
  {
   "cell_type": "code",
   "execution_count": 368,
   "metadata": {},
   "outputs": [],
   "source": [
    "utah=pd.DataFrame(combined_data_dfs[3])\n",
    "nj=pd.DataFrame(combined_data_dfs[2])\n",
    "ga=pd.DataFrame(combined_data_dfs[1])\n",
    "was=pd.DataFrame(combined_data_dfs[0])"
   ]
  },
  {
   "cell_type": "markdown",
   "metadata": {},
   "source": [
    "## Calculating Income Effects on Social Distancing in Utah"
   ]
  },
  {
   "cell_type": "markdown",
   "metadata": {},
   "source": [
    "Calculate the mean distancing deviation in the google data for each month. This creates a mean for every county in the state."
   ]
  },
  {
   "cell_type": "code",
   "execution_count": 369,
   "metadata": {},
   "outputs": [],
   "source": [
    "feb_distance=[0]*(len(utah[\"County\"]))\n",
    "for x in range(0,20):\n",
    "        feb_distance[x]=np.mean(utah.iloc[x,2:17])\n",
    "        \n",
    "mar_distance=[0]*(len(utah[\"County\"]))\n",
    "for x in range(0,20):\n",
    "        mar_distance[x]=np.mean(utah.iloc[x,17:48])\n",
    "        \n",
    "apr_distance=[0]*(len(utah[\"County\"]))\n",
    "for x in range(0,20):\n",
    "        apr_distance[x]=np.mean(utah.iloc[x,48:59])"
   ]
  },
  {
   "cell_type": "markdown",
   "metadata": {},
   "source": [
    "Certain counties have employment in industries marked as (D) which means the number is confidential. Larger numbers\n",
    "are estimated but smaller ones are not. We simply zero out the field to impute the data. We also append our distance averages to the dataframe."
   ]
  },
  {
   "cell_type": "code",
   "execution_count": 370,
   "metadata": {},
   "outputs": [],
   "source": [
    "for x in range(0,20):\n",
    "    if utah.iloc[x,64]==\"(D)\":\n",
    "        utah.iloc[x,64]=0\n",
    "\n",
    "for x in range(0,20):\n",
    "    for n in range(67,92):\n",
    "        if utah.iloc[x,n]==\"(D)\":\n",
    "            utah.iloc[x,n]=0\n",
    "\n",
    "utah['f_dist']=feb_distance\n",
    "utah['m_dist']=mar_distance\n",
    "utah['a_dist']=apr_distance"
   ]
  },
  {
   "cell_type": "markdown",
   "metadata": {},
   "source": [
    "We create measures of percentages for nonfarm jobs and industries hit hard by coronavirus (accomodations, entertainment, transportation, retail) as well as a number of transformations for fit."
   ]
  },
  {
   "cell_type": "code",
   "execution_count": 372,
   "metadata": {},
   "outputs": [],
   "source": [
    "nonfarm_pct=[0]*(len(utah[\"County\"]))\n",
    "covid_hit=[0]*(len(utah[\"County\"]))\n",
    "log_inc=[0]*(len(utah[\"County\"]))\n",
    "pct_2=[0]*(len(utah[\"County\"]))\n",
    "for x in range(0,20):\n",
    "        nonfarm_pct[x]=float(utah.iloc[x,65])/float(utah.iloc[x,59])\n",
    "        log_inc[x]=np.log(float(utah.iloc[x,1]))        \n",
    "        #covid_hit[x]=(float(utah.iloc[x,83])+float(utah.iloc[x,84])+float(utah.iloc[x,68])+float(utah.iloc[x,73])+float(utah.iloc[x,74]))/float(utah.iloc[x,59])\n",
    "        covid_hit[x]=(float(utah.iloc[x,83])+float(utah.iloc[x,84]))/float(utah.iloc[x,59])\n",
    "utah['nfarm']=nonfarm_pct\n",
    "utah['hosp']=covid_hit\n",
    "utah['log_inc']=log_inc\n",
    "\n",
    "for x in range(0,20):\n",
    "    pct_2[x]=(float(utah.iloc[x,95]))**2\n",
    "utah['pct_2']=pct_2"
   ]
  },
  {
   "cell_type": "markdown",
   "metadata": {},
   "source": [
    "Exo_list is the contains the index of the independent variable that are used in the regression."
   ]
  },
  {
   "cell_type": "code",
   "execution_count": 373,
   "metadata": {},
   "outputs": [],
   "source": [
    "exo_list=list()\n",
    "\n",
    "exo_list.append(97)#Log Income\n",
    "exo_list.append(95)#Nonfarm employment\n",
    "exo_list.append(96)#Covid affected employment\n"
   ]
  },
  {
   "cell_type": "markdown",
   "metadata": {},
   "source": [
    "In order to use Scikit's linear regression model, we need to convert the dataframe to a numpy array and change the types\n",
    "to floats from the original strings."
   ]
  },
  {
   "cell_type": "code",
   "execution_count": 374,
   "metadata": {},
   "outputs": [],
   "source": [
    "Y=utah['a_dist'].to_numpy()\n",
    "X=utah.iloc[:,exo_list].to_numpy()\n",
    "for i in range(0, len(Y)): \n",
    "    Y[i] = float(Y[i])\n",
    "for i in range(0,len(X[:,1])):\n",
    "    for n in range(0,len(X[1,:])):\n",
    "        X[i,n]=float(X[i,n])\n",
    "ut_X=X[:,0]\n",
    "ut_Xb=X[:,1]\n",
    "ut_Xc=X[:,2]\n",
    "ut_Y=Y"
   ]
  },
  {
   "cell_type": "markdown",
   "metadata": {},
   "source": [
    "Our regression model for UT and NJ is as follows:  \n",
    "\n",
    "percent change from baseline work trips = b_0 + b_1 log county income (dollars) + b_2 percent nonfarm employment in county + b_3 percent employment in entertainment and hopsitality.\n",
    "\n",
    "For GA and WA it is:  \n",
    "\n",
    "percent change from baseline work trips = b_0 + b_1 log county income (dollars) + b_2 percent nonfarm employment in county + b_3 percent nonfarm employment in county^2.\n",
    "\n",
    "\n",
    "The ouput from the regression includes the R-squared figure and the coefficients of regression. It also prints the average of the other two features for use in the SEIR model."
   ]
  },
  {
   "cell_type": "code",
   "execution_count": 375,
   "metadata": {},
   "outputs": [
    {
     "name": "stdout",
     "output_type": "stream",
     "text": [
      "R-squared: 0.7487710834908439\n",
      "Regression Coefficients: [ -26.71397541 -109.24707879   36.39840536]\n",
      "Regression Intercept: 344.3604646793095\n",
      "Average Nonfarm Employment Percent: 0.9557809844719977\n",
      "Average Covid Affected Employment Percent: 0.09460863023806595\n",
      "Equation: 243.388-26.713975*log(income)\n"
     ]
    }
   ],
   "source": [
    "utah_reg = lm.LinearRegression().fit(X, Y)\n",
    "print(\"R-squared: \"+ str(utah_reg.score(X,Y)))\n",
    "print(\"Regression Coefficients: \" + str(utah_reg.coef_))\n",
    "print(\"Regression Intercept: \" + str(utah_reg.intercept_))\n",
    "print(\"Average Nonfarm Employment Percent: \" + str(np.mean(X[:,1])))\n",
    "print(\"Average Covid Affected Employment Percent: \" + str(np.mean(X[:,2])))\n",
    "x=round((utah_reg.intercept_ + utah_reg.coef_[1]*np.mean(X[:,1]) + utah_reg.coef_[2]*np.mean(X[:,2])),3)\n",
    "print(\"Equation: \" + str(x) + str(round(utah_reg.coef_[0],6)) + \"*log(income)\" )"
   ]
  },
  {
   "cell_type": "markdown",
   "metadata": {},
   "source": [
    "## New Jersey"
   ]
  },
  {
   "cell_type": "code",
   "execution_count": 376,
   "metadata": {},
   "outputs": [],
   "source": [
    "feb_distance=[0]*(len(nj[\"County\"]))\n",
    "for x in range(0,19):\n",
    "        feb_distance[x]=np.mean(nj.iloc[x,2:17])\n",
    "        \n",
    "mar_distance=[0]*(len(nj[\"County\"]))\n",
    "for x in range(0,19):\n",
    "        mar_distance[x]=np.mean(nj.iloc[x,17:48])\n",
    "        \n",
    "apr_distance=[0]*(len(nj[\"County\"]))\n",
    "for x in range(0,19):\n",
    "        apr_distance[x]=np.mean(nj.iloc[x,48:59])\n",
    "\n",
    "for x in range(0,19):\n",
    "    if nj.iloc[x,64]==\"(D)\":\n",
    "        nj.iloc[x,64]=0\n",
    "\n",
    "for x in range(0,19):\n",
    "    for n in range(67,92):\n",
    "        if nj.iloc[x,n]==\"(D)\":\n",
    "            nj.iloc[x,n]=0\n",
    "\n",
    "nj['f_dist']=feb_distance\n",
    "nj['m_dist']=mar_distance\n",
    "nj['a_dist']=apr_distance\n",
    "\n",
    "nonfarm_pct=[0]*(len(nj[\"County\"]))\n",
    "covid_hit=[0]*(len(nj[\"County\"]))\n",
    "log_inc=[0]*(len(nj[\"County\"]))\n",
    "pct_2=[0]*(len(nj[\"County\"]))\n",
    "for x in range(0,19):\n",
    "        nonfarm_pct[x]=float(nj.iloc[x,65])/float(nj.iloc[x,59])\n",
    "        log_inc[x]=np.log(float(nj.iloc[x,1]))        \n",
    "        covid_hit[x]=(float(nj.iloc[x,83])+float(nj.iloc[x,84]))/float(nj.iloc[x,59])\n",
    "nj['nfarm']=nonfarm_pct\n",
    "nj['hosp']=covid_hit\n",
    "nj['log_inc']=log_inc\n",
    "\n",
    "for x in range(0,19):\n",
    "    pct_2[x]=(float(nj.iloc[x,95]))**2\n",
    "nj['pct_2']=pct_2"
   ]
  },
  {
   "cell_type": "code",
   "execution_count": 377,
   "metadata": {},
   "outputs": [],
   "source": [
    "Y=nj['a_dist'].to_numpy()\n",
    "X=nj.iloc[:,exo_list].to_numpy()\n",
    "for i in range(0, len(Y)): \n",
    "    Y[i] = float(Y[i])\n",
    "for i in range(0,len(X[:,1])):\n",
    "    for n in range(0,len(X[1,:])):\n",
    "        X[i,n]=float(X[i,n])\n",
    "nj_X=X[:,0]\n",
    "nj_Xb=X[:,1]\n",
    "nj_Xc=X[:,2]\n",
    "nj_Y=Y    "
   ]
  },
  {
   "cell_type": "code",
   "execution_count": 378,
   "metadata": {
    "scrolled": true
   },
   "outputs": [
    {
     "name": "stdout",
     "output_type": "stream",
     "text": [
      "R-squared: 0.7769575595681705\n",
      "Regression Coefficients: [ -15.53634493 -303.41319382   44.47584239]\n",
      "Regression Intercept: 414.30323519394784\n",
      "Average Nonfarm Employment Percent: 0.9909522466151492\n",
      "Average Covid Affected Employment Percent: 0.08141178080190699\n",
      "Equation: 117.256-15.536345*log(income)\n"
     ]
    }
   ],
   "source": [
    "nj_reg = lm.LinearRegression().fit(X, Y)\n",
    "print(\"R-squared: \"+ str(nj_reg.score(X,Y)))\n",
    "print(\"Regression Coefficients: \" + str(nj_reg.coef_))\n",
    "print(\"Regression Intercept: \" + str(nj_reg.intercept_))\n",
    "print(\"Average Nonfarm Employment Percent: \" + str(np.mean(X[:,1])))\n",
    "print(\"Average Covid Affected Employment Percent: \" + str(np.mean(X[:,2])))\n",
    "x=round((nj_reg.intercept_ + nj_reg.coef_[1]*np.mean(X[:,1]) + nj_reg.coef_[2]*np.mean(X[:,2])),3)\n",
    "print(\"Equation: \" + str(x) + str(round(nj_reg.coef_[0],6)) + \"*log(income)\" )"
   ]
  },
  {
   "cell_type": "markdown",
   "metadata": {},
   "source": [
    "## Georgia"
   ]
  },
  {
   "cell_type": "markdown",
   "metadata": {},
   "source": [
    "Georgia and Washington use a different regression form than Utah and New Jersey since the entertainment industry \n",
    "employment percents are not correlated with workplace travel deviations in GA and WA."
   ]
  },
  {
   "cell_type": "code",
   "execution_count": 379,
   "metadata": {},
   "outputs": [],
   "source": [
    "exo_list=list()\n",
    "\n",
    "exo_list.append(97)#Log Income\n",
    "exo_list.append(95)#Nonfarm employment\n",
    "exo_list.append(98)#Nonfarm^2"
   ]
  },
  {
   "cell_type": "code",
   "execution_count": 380,
   "metadata": {},
   "outputs": [],
   "source": [
    "feb_distance=[0]*(len(ga[\"County\"]))\n",
    "for x in range(0,138):\n",
    "        feb_distance[x]=np.mean(ga.iloc[x,2:17])\n",
    "        \n",
    "mar_distance=[0]*(len(ga[\"County\"]))\n",
    "for x in range(0,138):\n",
    "        mar_distance[x]=np.mean(ga.iloc[x,17:48])\n",
    "        \n",
    "apr_distance=[0]*(len(ga[\"County\"]))\n",
    "for x in range(0,138):\n",
    "        apr_distance[x]=np.mean(ga.iloc[x,48:59])\n",
    "\n",
    "for x in range(0,138):\n",
    "    if ga.iloc[x,64]==\"(D)\":\n",
    "        ga.iloc[x,64]=0\n",
    "\n",
    "for x in range(0,138):\n",
    "    for n in range(67,92):\n",
    "        if ga.iloc[x,n]==\"(D)\":\n",
    "            ga.iloc[x,n]=0\n",
    "\n",
    "ga['f_dist']=feb_distance\n",
    "ga['m_dist']=mar_distance\n",
    "ga['a_dist']=apr_distance\n",
    "\n",
    "nonfarm_pct=[0]*(len(ga[\"County\"]))\n",
    "covid_hit=[0]*(len(ga[\"County\"]))\n",
    "log_inc=[0]*(len(ga[\"County\"]))\n",
    "pct_2=[0]*(len(ga[\"County\"]))\n",
    "for x in range(0,138):\n",
    "        nonfarm_pct[x]=float(ga.iloc[x,65])/float(ga.iloc[x,59])\n",
    "        log_inc[x]=np.log(float(ga.iloc[x,1]))        \n",
    "        covid_hit[x]=(float(ga.iloc[x,83])+float(ga.iloc[x,84]))/float(ga.iloc[x,59])\n",
    "ga['nfarm']=nonfarm_pct\n",
    "ga['hosp']=covid_hit\n",
    "ga['log_inc']=log_inc\n",
    "\n",
    "for x in range(0,138):\n",
    "    pct_2[x]=(float(ga.iloc[x,95]))**2\n",
    "ga['pct_2']=pct_2"
   ]
  },
  {
   "cell_type": "code",
   "execution_count": 381,
   "metadata": {},
   "outputs": [],
   "source": [
    "Y=ga['a_dist'].to_numpy()\n",
    "X=ga.iloc[:,exo_list].to_numpy()\n",
    "for i in range(0, len(Y)): \n",
    "    Y[i] = float(Y[i])\n",
    "for i in range(0,len(X[:,1])):\n",
    "    for n in range(0,len(X[1,:])):\n",
    "        X[i,n]=float(X[i,n])\n",
    "ga_X=X[:,0]\n",
    "ga_Xb=X[:,1]\n",
    "ga_Xc=ga['hosp']\n",
    "ga_Y=Y"
   ]
  },
  {
   "cell_type": "code",
   "execution_count": 382,
   "metadata": {},
   "outputs": [
    {
     "name": "stdout",
     "output_type": "stream",
     "text": [
      "R-squared: 0.5746196598544111\n",
      "Regression Coefficients: [  -10.88940771  2741.9630794  -1493.0762672 ]\n",
      "Regression Intercept: -1178.1198259315738\n",
      "Average Nonfarm Employment Percent: 0.9618369579207076\n",
      "Equation: 177.899-10.889408*log(income)\n"
     ]
    }
   ],
   "source": [
    "ga_reg = lm.LinearRegression().fit(X, Y)\n",
    "print(\"R-squared: \"+ str(ga_reg.score(X,Y)))\n",
    "print(\"Regression Coefficients: \" + str(ga_reg.coef_))\n",
    "print(\"Regression Intercept: \" + str(ga_reg.intercept_))\n",
    "print(\"Average Nonfarm Employment Percent: \" + str(np.mean(X[:,1])))\n",
    "x=round((ga_reg.intercept_ + ga_reg.coef_[1]*np.mean(X[:,1]) + ga_reg.coef_[2]*np.mean(X[:,2])**2),3)\n",
    "print(\"Equation: \" + str(x) + str(round(ga_reg.coef_[0],6)) + \"*log(income)\" )"
   ]
  },
  {
   "cell_type": "markdown",
   "metadata": {},
   "source": [
    "## Washington"
   ]
  },
  {
   "cell_type": "code",
   "execution_count": 383,
   "metadata": {},
   "outputs": [],
   "source": [
    "feb_distance=[0]*(len(was[\"County\"]))\n",
    "for x in range(0,29):\n",
    "        feb_distance[x]=np.mean(was.iloc[x,2:17])\n",
    "        \n",
    "mar_distance=[0]*(len(was[\"County\"]))\n",
    "for x in range(0,29):\n",
    "        mar_distance[x]=np.mean(was.iloc[x,17:48])\n",
    "        \n",
    "apr_distance=[0]*(len(was[\"County\"]))\n",
    "for x in range(0,29):\n",
    "        apr_distance[x]=np.mean(was.iloc[x,48:59])\n",
    "\n",
    "for x in range(0,29):\n",
    "    if was.iloc[x,64]==\"(D)\":\n",
    "        was.iloc[x,64]=0\n",
    "\n",
    "for x in range(0,29):\n",
    "    for n in range(67,92):\n",
    "        if was.iloc[x,n]==\"(D)\":\n",
    "            was.iloc[x,n]=0\n",
    "\n",
    "was['f_dist']=feb_distance\n",
    "was['m_dist']=mar_distance\n",
    "was['a_dist']=apr_distance\n",
    "\n",
    "nonfarm_pct=[0]*(len(was[\"County\"]))\n",
    "covid_hit=[0]*(len(was[\"County\"]))\n",
    "log_inc=[0]*(len(was[\"County\"]))\n",
    "pct_2=[0]*(len(was[\"County\"]))\n",
    "for x in range(0,29):\n",
    "        nonfarm_pct[x]=float(was.iloc[x,65])/float(was.iloc[x,59])\n",
    "        log_inc[x]=np.log(float(was.iloc[x,1]))        \n",
    "        covid_hit[x]=(float(was.iloc[x,83])+float(was.iloc[x,84]))/float(was.iloc[x,59])\n",
    "was['nfarm']=nonfarm_pct\n",
    "was['hosp']=covid_hit\n",
    "was['log_inc']=log_inc\n",
    "\n",
    "for x in range(0,29):\n",
    "    pct_2[x]=(float(was.iloc[x,95]))**2\n",
    "was['pct_2']=pct_2"
   ]
  },
  {
   "cell_type": "code",
   "execution_count": 384,
   "metadata": {},
   "outputs": [],
   "source": [
    "Y=was['a_dist'].to_numpy()\n",
    "X=was.iloc[:,exo_list].to_numpy()\n",
    "for i in range(0, len(Y)): \n",
    "    Y[i] = float(Y[i])\n",
    "for i in range(0,len(X[:,1])):\n",
    "    for n in range(0,len(X[1,:])):\n",
    "        X[i,n]=float(X[i,n])\n",
    "was_X=X[:,0]\n",
    "was_Xb=X[:,1]\n",
    "was_Xc=was['hosp']\n",
    "was_Y=Y"
   ]
  },
  {
   "cell_type": "code",
   "execution_count": 385,
   "metadata": {
    "scrolled": true
   },
   "outputs": [
    {
     "name": "stdout",
     "output_type": "stream",
     "text": [
      "R-squared: 0.4852753086671892\n",
      "Regression Coefficients: [ -22.61995418 -543.40292868  282.18316546]\n",
      "Regression Intercept: 458.6062233273898\n",
      "Average Nonfarm Employment Percent: 0.9493031221593514\n",
      "Equation: 173.065-22.619954*log(income)\n"
     ]
    }
   ],
   "source": [
    "was_reg = lm.LinearRegression().fit(X, Y)\n",
    "print(\"R-squared: \"+ str(was_reg.score(X,Y)))\n",
    "print(\"Regression Coefficients: \" + str(was_reg.coef_))\n",
    "print(\"Regression Intercept: \" + str(was_reg.intercept_))\n",
    "print(\"Average Nonfarm Employment Percent: \" + str(np.mean(X[:,1])))\n",
    "x=round((was_reg.intercept_ + was_reg.coef_[1]*np.mean(X[:,1]) + was_reg.coef_[2]*np.mean(X[:,2])**2),3)\n",
    "print(\"Equation: \" + str(x) + str(round(was_reg.coef_[0],6)) + \"*log(income)\" )"
   ]
  },
  {
   "cell_type": "markdown",
   "metadata": {},
   "source": [
    "## Data Visualization"
   ]
  },
  {
   "cell_type": "markdown",
   "metadata": {},
   "source": [
    "Preparing the Data to be plotted by converting numpy arrays to lists"
   ]
  },
  {
   "cell_type": "code",
   "execution_count": 395,
   "metadata": {},
   "outputs": [],
   "source": [
    "col=[]\n",
    "ut_X=list(ut_X)#20 elements\n",
    "nj_X=list(nj_X)#19 elements\n",
    "ga_X=list(ga_X)#138\n",
    "was_X=list(was_X)#29\n",
    "\n",
    "ut_Xb=list(ut_Xb)\n",
    "nj_Xb=list(nj_Xb)\n",
    "ga_Xb=list(ga_Xb)\n",
    "was_Xb=list(was_Xb)\n",
    "\n",
    "ut_Xc=list(ut_Xc)\n",
    "nj_Xc=list(nj_Xc)\n",
    "ga_Xc=list(ga_Xc)\n",
    "was_Xc=list(was_Xc)\n",
    "\n",
    "ut_Xd=list(utah['Per Capita Income 2018'])\n",
    "nj_Xd=list(nj['Per Capita Income 2018'])\n",
    "ga_Xd=list(ga['Per Capita Income 2018'])\n",
    "was_Xd=list(was['Per Capita Income 2018'])\n",
    "\n",
    "ut_Y=list(ut_Y)\n",
    "nj_Y=list(nj_Y)\n",
    "ga_Y=list(ga_Y)\n",
    "was_Y=list(was_Y)\n",
    "\n",
    "col[0:19]=['red']*20\n",
    "col[20:38]=['green']*19\n",
    "col[39:176]=['blue']*138\n",
    "col[177:205]=['yellow']*29\n"
   ]
  },
  {
   "cell_type": "markdown",
   "metadata": {},
   "source": [
    "Scatterplot 1: Distancing Deviation vs. Per Capita Income on the County Level"
   ]
  },
  {
   "cell_type": "code",
   "execution_count": 396,
   "metadata": {},
   "outputs": [
    {
     "data": {
      "image/png": "[encoded data removed]",
      "text/plain": [
       "<Figure size 432x288 with 1 Axes>"
      ]
     },
     "metadata": {
      "needs_background": "light"
     },
     "output_type": "display_data"
    }
   ],
   "source": [
    "plt.scatter(ut_Xd, ut_Y, color='blue', label=\"Utah\",alpha=0.4)\n",
    "plt.scatter(nj_Xd, nj_Y, color='green', label=\"New Jersey\",alpha=0.4)\n",
    "plt.scatter(ga_Xd, ga_Y, color='red', label=\"Georgia\",alpha=0.4)\n",
    "plt.scatter(was_Xd, was_Y, color='yellow', label=\"Washington\",alpha=0.4)\n",
    "plt.legend(loc=\"upper right\")\n",
    "plt.xlabel(\"Per Capita Income\")\n",
    "plt.ylabel(\"Deviation from Pre-Covid Workplace Traffic\")\n",
    "plt.show()"
   ]
  },
  {
   "cell_type": "markdown",
   "metadata": {},
   "source": [
    "Per Capita Income with a Logarithmic Transformation"
   ]
  },
  {
   "cell_type": "code",
   "execution_count": 387,
   "metadata": {},
   "outputs": [
    {
     "data": {
      "image/png": "[encoded data removed]",
      "text/plain": [
       "<Figure size 432x288 with 1 Axes>"
      ]
     },
     "metadata": {
      "needs_background": "light"
     },
     "output_type": "display_data"
    }
   ],
   "source": [
    "plt.scatter(ut_X, ut_Y, color='blue', label=\"Utah\",alpha=0.4)\n",
    "plt.scatter(nj_X, nj_Y, color='green', label=\"New Jersey\",alpha=0.4)\n",
    "plt.scatter(ga_X, ga_Y, color='red', label=\"Georgia\",alpha=0.4)\n",
    "plt.scatter(was_X, was_Y, color='yellow', label=\"Washington\",alpha=0.4)\n",
    "plt.legend(loc=\"upper right\")\n",
    "plt.xlabel(\"Log Per Capita Income\")\n",
    "plt.ylabel(\"Deviation from Pre-Covid Workplace Traffic\")\n",
    "plt.show()"
   ]
  },
  {
   "cell_type": "markdown",
   "metadata": {},
   "source": [
    "Scatterplot 2: Distancing Deviation vs. Percent Employed in Nonfarm Jobs"
   ]
  },
  {
   "cell_type": "code",
   "execution_count": 388,
   "metadata": {},
   "outputs": [
    {
     "data": {
      "image/png": "[encoded data removed]",
      "text/plain": [
       "<Figure size 432x288 with 1 Axes>"
      ]
     },
     "metadata": {
      "needs_background": "light"
     },
     "output_type": "display_data"
    }
   ],
   "source": [
    "plt.scatter(ut_Xb, ut_Y, color='blue', label=\"Utah\",alpha=0.4)\n",
    "plt.scatter(nj_Xb, nj_Y, color='green', label=\"New Jersey\",alpha=0.4)\n",
    "plt.scatter(ga_Xb, ga_Y, color='red', label=\"Georgia\",alpha=0.4)\n",
    "plt.scatter(was_Xb, was_Y, color='yellow', label=\"Washington\",alpha=0.4)\n",
    "plt.legend(loc=\"lower left\")\n",
    "plt.xlabel(\"County Percent Employed in Nonfarm Jobs\")\n",
    "plt.ylabel(\"Deviation from Pre-Covid Workplace Traffic\")\n",
    "plt.show()"
   ]
  },
  {
   "cell_type": "markdown",
   "metadata": {},
   "source": [
    "Scatterplot 3: Distancing Deviation vs. Percent Employed in At-Risk Industries"
   ]
  },
  {
   "cell_type": "code",
   "execution_count": 392,
   "metadata": {},
   "outputs": [
    {
     "data": {
      "image/png": "[encoded data removed]",
      "text/plain": [
       "<Figure size 432x288 with 1 Axes>"
      ]
     },
     "metadata": {
      "needs_background": "light"
     },
     "output_type": "display_data"
    }
   ],
   "source": [
    "plt.scatter(ut_Xc, ut_Y, color='blue', label=\"Utah\",alpha=0.4)\n",
    "plt.scatter(nj_Xc, nj_Y, color='green', label=\"New Jersey\",alpha=0.4)\n",
    "plt.scatter(ga_Xc, ga_Y, color='red', label=\"Georgia\",alpha=0.4)\n",
    "plt.scatter(was_Xc, was_Y, color='yellow', label=\"Washington\",alpha=0.4)\n",
    "plt.legend(loc=\"upper right\")\n",
    "plt.xlabel(\"Percent Employed in Entertainment and Hospitality\")\n",
    "plt.ylabel(\"Deviation from Pre-Covid Workplace Traffic\")\n",
    "plt.show()"
   ]
  }
 ],
 "metadata": {
  "kernelspec": {
   "display_name": "Python 3",
   "language": "python",
   "name": "python3"
  },
  "language_info": {
   "codemirror_mode": {
    "name": "ipython",
    "version": 3
   },
   "file_extension": ".py",
   "mimetype": "text/x-python",
   "name": "python",
   "nbconvert_exporter": "python",
   "pygments_lexer": "ipython3",
   "version": "3.7.4"
  }
 },
 "nbformat": 4,
 "nbformat_minor": 2
}
